{
 "cells": [
  {
   "cell_type": "code",
   "execution_count": 1,
   "metadata": {
    "collapsed": true
   },
   "outputs": [],
   "source": [
    "import json\n",
    "import re\n",
    "import os"
   ]
  },
  {
   "cell_type": "code",
   "execution_count": null,
   "metadata": {
    "collapsed": true
   },
   "outputs": [],
   "source": [
    "file_types = ['train', 'dev', 'test']\n",
    "for file_type in file_types:\n",
    "    file_path = './data_'+file_type+'_preprocessed.json'\n",
    "    ori_file = open(file_path, 'r', encoding='utf-8')\n",
    "    yesno_file = open('./data_'+file_type+'_yesno_preprocessed.json')\n",
    "    entity_file = open('./data_'+file_type+'_entity_preprocessed.json')\n",
    "    description_file = open('./data_'+file_type+'_description_preprocessed.json')\n",
    "    for line in ori_file.readlines():\n",
    "        que_json = json.loads(line)\n",
    "        que_type = que_json['question_type']\n",
    "        if que_type == 'DESCRIPTION':\n",
    "            que_answer = que_json['answers'][0]\n",
    "        elif que_type == 'YES_NO':\n",
    "            if que_json['yesno_answers'][0] == \"Yes\":\n",
    "                que_answer = \"是\"\n",
    "            elif que_json['yesno_answers'][0] == \"No\":\n",
    "                que_answer = \"否\"\n",
    "        elif que_type == 'ENTITY':"
   ]
  }
 ],
 "metadata": {
  "kernelspec": {
   "display_name": "Python 3",
   "language": "python",
   "name": "python3"
  },
  "language_info": {
   "codemirror_mode": {
    "name": "ipython",
    "version": 3
   },
   "file_extension": ".py",
   "mimetype": "text/x-python",
   "name": "python",
   "nbconvert_exporter": "python",
   "pygments_lexer": "ipython3",
   "version": "3.6.4"
  }
 },
 "nbformat": 4,
 "nbformat_minor": 2
}
