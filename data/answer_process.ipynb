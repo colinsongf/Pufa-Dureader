{
 "cells": [
  {
   "cell_type": "code",
   "execution_count": 1,
   "metadata": {
    "collapsed": true
   },
   "outputs": [],
   "source": [
    "import re\n",
    "import os\n",
    "import json"
   ]
  },
  {
   "cell_type": "code",
   "execution_count": 5,
   "metadata": {},
   "outputs": [],
   "source": [
    "raw_answer_file = open('./result_demo/entity/test.predicted.json', 'r')\n",
    "final_answer_file = open('./result_demo/entity/answer_final.csv', 'w+')\n",
    "for line in raw_answer_file.readlines():\n",
    "    que_json = json.loads(line)\n",
    "    que_index = que_json['question_id']\n",
    "    que_type = que_json['question_type']\n",
    "    que_answer = que_json['answers'][0]\n",
    "    final_answer_file.write(que_index+'\\t'+que_answer+'\\n')\n",
    "raw_answer_file.close()\n",
    "final_answer_file.close()"
   ]
  },
  {
   "cell_type": "code",
   "execution_count": 6,
   "metadata": {},
   "outputs": [
    {
     "data": {
      "text/plain": [
       "'1882年'"
      ]
     },
     "execution_count": 6,
     "metadata": {},
     "output_type": "execute_result"
    }
   ],
   "source": [
    "que_answer"
   ]
  },
  {
   "cell_type": "code",
   "execution_count": 18,
   "metadata": {},
   "outputs": [],
   "source": [
    "des_answer_final = open('./result_demo/description/test.predicted.json', 'r')\n",
    "ent_answer_final = open('./result_demo/entity/test.predicted.json', 'r')\n",
    "all_answer_final = open('./result_demo/answer_altogether.csv', 'w+')\n",
    "for line in des_answer_final.readlines():\n",
    "    que_json = json.loads(line)\n",
    "    que_index = que_json['question_id']\n",
    "    que_answer = que_json['answers'][0]\n",
    "    que_type = que_json['question_type']\n",
    "    if que_type == 'DESCRIPTION':\n",
    "        if que_answer.startswith('。'):\n",
    "            que_answer = que_answer.lstrip('。')+'。'\n",
    "    if que_type == 'entity':\n",
    "        continue\n",
    "    if que_type == 'yes_no':\n",
    "        if '是' in que_answer:\n",
    "            que_answer = '是'\n",
    "        if '否' in que_answer:\n",
    "            que_answer = '否'\n",
    "        else:\n",
    "            que_answer = '否'\n",
    "    all_answer_final.write(que_index+'\\t'+que_answer+'\\n')\n",
    "for line in ent_answer_final.readlines():\n",
    "    que_json = json.loads(line)\n",
    "    que_index = que_json['question_id']\n",
    "    que_answer = que_json['answers'][0]\n",
    "    que_type = que_json['question_type']\n",
    "    all_answer_final.write(que_index+'\\t'+que_answer+'\\n')\n",
    "des_answer_final.close()\n",
    "ent_answer_final.close()\n",
    "all_answer_final.close()"
   ]
  },
  {
   "cell_type": "code",
   "execution_count": 22,
   "metadata": {
    "collapsed": true
   },
   "outputs": [],
   "source": [
    "all_answer_final = open('./result_demo/answer_altogether.csv', 'a+')\n",
    "yesno_answer_final = open('./yesno/data_test_preprocessed.json', 'r')\n",
    "for line in yesno_answer_final.readlines():\n",
    "    que_json = json.loads(line)\n",
    "    que_index = que_json['question_id']\n",
    "    que_answer = '是'\n",
    "    all_answer_final.write(que_index+'\\t'+que_answer+'\\n')\n",
    "all_answer_final.close()"
   ]
  },
  {
   "cell_type": "code",
   "execution_count": 21,
   "metadata": {},
   "outputs": [
    {
     "data": {
      "text/plain": [
       "'是'"
      ]
     },
     "execution_count": 21,
     "metadata": {},
     "output_type": "execute_result"
    }
   ],
   "source": []
  },
  {
   "cell_type": "code",
   "execution_count": null,
   "metadata": {
    "collapsed": true
   },
   "outputs": [],
   "source": []
  }
 ],
 "metadata": {
  "kernelspec": {
   "display_name": "Python 3",
   "language": "python",
   "name": "python3"
  },
  "language_info": {
   "codemirror_mode": {
    "name": "ipython",
    "version": 3
   },
   "file_extension": ".py",
   "mimetype": "text/x-python",
   "name": "python",
   "nbconvert_exporter": "python",
   "pygments_lexer": "ipython3",
   "version": "3.6.4"
  }
 },
 "nbformat": 4,
 "nbformat_minor": 2
}
