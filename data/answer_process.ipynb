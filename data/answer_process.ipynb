{
 "cells": [
  {
   "cell_type": "code",
   "execution_count": 1,
   "metadata": {
    "collapsed": true
   },
   "outputs": [],
   "source": [
    "import re\n",
    "import os\n",
    "import json"
   ]
  },
  {
   "cell_type": "code",
   "execution_count": 3,
   "metadata": {},
   "outputs": [],
   "source": [
    "raw_answer_file = open('./answer_raw.json', 'r')\n",
    "final_answer_file = open('./answer_final.csv', 'w+')\n",
    "for line in raw_answer_file.readlines():\n",
    "    que_json = json.loads(line)\n",
    "    que_index = que_json['question_id']\n",
    "    que_type = que_json['question_type']\n",
    "    que_answer = que_json['answers'][0]\n",
    "    final_answer_file.write(que_index+'\\t'+que_answer+'\\n')\n",
    "raw_answer_file.close()\n",
    "final_answer_file.close()"
   ]
  },
  {
   "cell_type": "code",
   "execution_count": 4,
   "metadata": {},
   "outputs": [
    {
     "data": {
      "text/plain": [
       "'在实体经济基础上的，应以实体经济的需求为出发点；要不断拓展中国票据市场的内涵和外延'"
      ]
     },
     "execution_count": 4,
     "metadata": {},
     "output_type": "execute_result"
    }
   ],
   "source": [
    "que_answer"
   ]
  },
  {
   "cell_type": "code",
   "execution_count": null,
   "metadata": {
    "collapsed": true
   },
   "outputs": [],
   "source": []
  }
 ],
 "metadata": {
  "kernelspec": {
   "display_name": "Python 3",
   "language": "python",
   "name": "python3"
  },
  "language_info": {
   "codemirror_mode": {
    "name": "ipython",
    "version": 3
   },
   "file_extension": ".py",
   "mimetype": "text/x-python",
   "name": "python",
   "nbconvert_exporter": "python",
   "pygments_lexer": "ipython3",
   "version": "3.6.4"
  }
 },
 "nbformat": 4,
 "nbformat_minor": 2
}
