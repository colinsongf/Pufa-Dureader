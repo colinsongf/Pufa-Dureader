{
 "cells": [
  {
   "cell_type": "code",
   "execution_count": 1,
   "metadata": {
    "collapsed": true
   },
   "outputs": [],
   "source": [
    "import json\n",
    "import re\n",
    "import os"
   ]
  },
  {
   "cell_type": "code",
   "execution_count": 5,
   "metadata": {},
   "outputs": [],
   "source": [
    "file_types = ['train', 'dev', 'test']\n",
    "for file_type in file_types:\n",
    "    file_path = './data/data_'+file_type+'_preprocessed.json'\n",
    "    ori_file = open(file_path, 'r', encoding='utf-8')\n",
    "    yesno_file = open('./data/data_'+file_type+'_yesno_preprocessed.json', 'w+')\n",
    "    entity_file = open('./data/data_'+file_type+'_entity_preprocessed.json', 'w+')\n",
    "    description_file = open('./data/data_'+file_type+'_description_preprocessed.json', 'w+')\n",
    "    for line in ori_file.readlines():\n",
    "        que_json = json.loads(line)\n",
    "        que_type = que_json['question_type']\n",
    "        if que_type == 'DESCRIPTION':\n",
    "            description_file.write(line)\n",
    "        elif que_type == 'yes_no':\n",
    "            yesno_file.write(line)\n",
    "        elif que_type == 'entity':\n",
    "            entity_file.write(line)\n",
    "    yesno_file.close()\n",
    "    entity_file.close()\n",
    "    description_file.close()\n",
    "    ori_file.close()"
   ]
  },
  {
   "cell_type": "code",
   "execution_count": null,
   "metadata": {
    "collapsed": true
   },
   "outputs": [],
   "source": []
  }
 ],
 "metadata": {
  "kernelspec": {
   "display_name": "Python 3",
   "language": "python",
   "name": "python3"
  },
  "language_info": {
   "codemirror_mode": {
    "name": "ipython",
    "version": 3
   },
   "file_extension": ".py",
   "mimetype": "text/x-python",
   "name": "python",
   "nbconvert_exporter": "python",
   "pygments_lexer": "ipython3",
   "version": "3.6.4"
  }
 },
 "nbformat": 4,
 "nbformat_minor": 2
}
